{
 "cells": [
  {
   "cell_type": "code",
   "execution_count": 2,
   "metadata": {},
   "outputs": [
    {
     "name": "stdout",
     "output_type": "stream",
     "text": [
      "The dotenv extension is already loaded. To reload it, use:\n",
      "  %reload_ext dotenv\n"
     ]
    }
   ],
   "source": [
    "# loading our environment, these environment files can be read in both R and Python\n",
    "# convenient when workign with multiple programming languages\n",
    "%load_ext dotenv\n",
    "%dotenv ../src/.env\n",
    "\n",
    "# Jupyter notebooks are experimentation things but rarely used for production\n",
    "import sys\n",
    "sys.path.append(\"../src\")\n",
    "\n",
    "# log everything, space is inexpensive; this logger is based on python\n",
    "# when we call logger, it's convenient to call it \"name\", will give you a nice sequencing of your logs\n",
    "from logger import get_logger\n",
    "_logs = get_logger(__name__)\n",
    "\n",
    "#_logs.info(\"Hello world!\")\n",
    "# value = 42\n",
    "# _logs.debug(f'The value is {value}')\n",
    "# _logs.error(\"This is an error\")\n",
    "# _logs.warning(\"this is a warnding\")\n",
    "# won't appear because loging level set to info, change enviroment variable to 'debug'"
   ]
  },
  {
   "cell_type": "code",
   "execution_count": 3,
   "metadata": {},
   "outputs": [],
   "source": [
    "# after done programming, go back and remove unused libraries\n",
    "import dask\n",
    "dask.config.set({'dataframe.query-planning': True})\n",
    "import dask.dataframe as dd\n",
    "import pandas as pd\n",
    "import numpy as np\n",
    "import os\n",
    "from glob import glob"
   ]
  },
  {
   "cell_type": "code",
   "execution_count": 8,
   "metadata": {},
   "outputs": [],
   "source": [
    "# '.' don't mean a end of file, they are just a seperatator, it could be a folder, not necessarily a file\n",
    "# creating files with .parquet file extension\n",
    "ft_dir = os.getenv(\"FEATURES_DATA\")     # PRICE_DATA\n",
    "\n",
    "# ft_dir = os.getenv(\"PRICE_DATA\")\n",
    "# ft_glob = glob(ft_dir+'*/*.parquet')\n",
    "# df = dd.read_parquet(ft_glob).compute().reset_index()\n",
    "\n",
    "ft_glob = glob(ft_dir+'/*.parquet')\n",
    "\n",
    "# FEATURES_DATA=../data/features/stock_features.parquet\n",
    "# ft_glob = glob(ft_dir+'*/*.parquet')\n",
    "\n",
    "\n",
    "df = dd.read_parquet(ft_glob).compute().reset_index()"
   ]
  },
  {
   "cell_type": "code",
   "execution_count": 5,
   "metadata": {},
   "outputs": [
    {
     "data": {
      "text/plain": [
       "'../data/prices/'"
      ]
     },
     "execution_count": 5,
     "metadata": {},
     "output_type": "execute_result"
    }
   ],
   "source": [
    "ft_dir = os.getenv(\"PRICE_DATA\")\n",
    "ft_dir"
   ]
  },
  {
   "cell_type": "code",
   "execution_count": 7,
   "metadata": {},
   "outputs": [
    {
     "data": {
      "text/plain": [
       "'../data/prices/*/*/*.parquet'"
      ]
     },
     "execution_count": 7,
     "metadata": {},
     "output_type": "execute_result"
    }
   ],
   "source": [
    "# this is a pattern that we use\n",
    "os.path.join(ft_dir, \"*/*/*.parquet\")"
   ]
  },
  {
   "cell_type": "code",
   "execution_count": 14,
   "metadata": {},
   "outputs": [
    {
     "data": {
      "text/plain": [
       "[]"
      ]
     },
     "execution_count": 14,
     "metadata": {},
     "output_type": "execute_result"
    }
   ],
   "source": [
    "# its a search, convveinet for searching for files ins a single flow\n",
    "# find all of the files with the structure that I decide\n",
    "# get only stocks that start with an 'A'\n",
    "from glob import glob\n",
    "glob(os.path.join(ft_dir, \"A*/*/*.parquet\"))"
   ]
  },
  {
   "cell_type": "code",
   "execution_count": null,
   "metadata": {},
   "outputs": [],
   "source": [
    "df = dd.read_parquet(ft_glob).compute().index()"
   ]
  },
  {
   "cell_type": "code",
   "execution_count": null,
   "metadata": {},
   "outputs": [],
   "source": [
    "df\n",
    "# ND array, pandas is a wrapper for numpy, \n",
    "# numerical computations are done with numpyt, to access underlying data you use \"values()\"\"\n",
    "# pandas dataframe will alway shave an index\n",
    "df.values"
   ]
  },
  {
   "cell_type": "code",
   "execution_count": 15,
   "metadata": {},
   "outputs": [],
   "source": [
    "# dask data frame that has lazy executioin\n",
    "# if we want pandas, we use 'compute', it will read all parquet values and calculate into pandas\n",
    "# if we want to move index into pands we need to reset index\n",
    "df = dd.read_parquet(ft_glob).compute().reset_index()"
   ]
  },
  {
   "cell_type": "markdown",
   "metadata": {},
   "source": [
    "# Sampling in Python"
   ]
  },
  {
   "cell_type": "markdown",
   "metadata": {},
   "source": [
    "+ There are different packages that allow sampling.\n",
    "+ A practical approach is to use pandas/Dask sampling methods."
   ]
  },
  {
   "cell_type": "markdown",
   "metadata": {},
   "source": [
    "## Random Sampling\n",
    "\n",
    "+ Sample n rows from a dataframe with [`df.sample()`](https://pandas.pydata.org/docs/reference/api/pandas.DataFrame.sample.html).\n",
    "\n",
    "```\n",
    "DataFrame.sample(\n",
    "    n=None, frac=None, replace=False, weights=None, \n",
    "    random_state=None, axis=None, ignore_index=False\n",
    "    )\n",
    "```"
   ]
  },
  {
   "cell_type": "code",
   "execution_count": 16,
   "metadata": {},
   "outputs": [
    {
     "data": {
      "text/html": [
       "<div>\n",
       "<style scoped>\n",
       "    .dataframe tbody tr th:only-of-type {\n",
       "        vertical-align: middle;\n",
       "    }\n",
       "\n",
       "    .dataframe tbody tr th {\n",
       "        vertical-align: top;\n",
       "    }\n",
       "\n",
       "    .dataframe thead th {\n",
       "        text-align: right;\n",
       "    }\n",
       "</style>\n",
       "<table border=\"1\" class=\"dataframe\">\n",
       "  <thead>\n",
       "    <tr style=\"text-align: right;\">\n",
       "      <th></th>\n",
       "      <th>ticker</th>\n",
       "      <th>Date</th>\n",
       "      <th>Open</th>\n",
       "      <th>High</th>\n",
       "      <th>Low</th>\n",
       "      <th>Close</th>\n",
       "      <th>Adj Close</th>\n",
       "      <th>Volume</th>\n",
       "      <th>sector</th>\n",
       "      <th>subsector</th>\n",
       "      <th>year</th>\n",
       "      <th>Close_lag_1</th>\n",
       "      <th>returns</th>\n",
       "      <th>positive_return</th>\n",
       "      <th>target</th>\n",
       "    </tr>\n",
       "  </thead>\n",
       "  <tbody>\n",
       "    <tr>\n",
       "      <th>424377</th>\n",
       "      <td>BBWI</td>\n",
       "      <td>2007-03-29</td>\n",
       "      <td>21.503637</td>\n",
       "      <td>21.697657</td>\n",
       "      <td>20.897331</td>\n",
       "      <td>21.261116</td>\n",
       "      <td>8.912901</td>\n",
       "      <td>7538031</td>\n",
       "      <td>Consumer Discretionary</td>\n",
       "      <td>Other Specialty Retail</td>\n",
       "      <td>2007</td>\n",
       "      <td>21.382378</td>\n",
       "      <td>-0.005671</td>\n",
       "      <td>0</td>\n",
       "      <td>0.0</td>\n",
       "    </tr>\n",
       "    <tr>\n",
       "      <th>995923</th>\n",
       "      <td>EMN</td>\n",
       "      <td>2012-02-15</td>\n",
       "      <td>54.619999</td>\n",
       "      <td>54.619999</td>\n",
       "      <td>53.410000</td>\n",
       "      <td>53.599998</td>\n",
       "      <td>38.790916</td>\n",
       "      <td>1557500</td>\n",
       "      <td>Materials</td>\n",
       "      <td>Specialty Chemicals</td>\n",
       "      <td>2012</td>\n",
       "      <td>54.139999</td>\n",
       "      <td>-0.009974</td>\n",
       "      <td>0</td>\n",
       "      <td>1.0</td>\n",
       "    </tr>\n",
       "    <tr>\n",
       "      <th>1771260</th>\n",
       "      <td>UNH</td>\n",
       "      <td>2020-12-07</td>\n",
       "      <td>348.720001</td>\n",
       "      <td>349.890015</td>\n",
       "      <td>345.220001</td>\n",
       "      <td>347.859985</td>\n",
       "      <td>333.675568</td>\n",
       "      <td>2999400</td>\n",
       "      <td>Health Care</td>\n",
       "      <td>Managed Health Care</td>\n",
       "      <td>2020</td>\n",
       "      <td>349.890015</td>\n",
       "      <td>-0.005802</td>\n",
       "      <td>0</td>\n",
       "      <td>0.0</td>\n",
       "    </tr>\n",
       "    <tr>\n",
       "      <th>904531</th>\n",
       "      <td>BEN</td>\n",
       "      <td>2003-07-07</td>\n",
       "      <td>13.360000</td>\n",
       "      <td>13.656667</td>\n",
       "      <td>13.360000</td>\n",
       "      <td>13.620000</td>\n",
       "      <td>7.588856</td>\n",
       "      <td>2442600</td>\n",
       "      <td>Financials</td>\n",
       "      <td>Asset Management &amp; Custody Banks</td>\n",
       "      <td>2003</td>\n",
       "      <td>13.300000</td>\n",
       "      <td>0.024060</td>\n",
       "      <td>1</td>\n",
       "      <td>1.0</td>\n",
       "    </tr>\n",
       "    <tr>\n",
       "      <th>1496888</th>\n",
       "      <td>COP</td>\n",
       "      <td>2015-11-10</td>\n",
       "      <td>54.480000</td>\n",
       "      <td>55.150002</td>\n",
       "      <td>54.000000</td>\n",
       "      <td>54.650002</td>\n",
       "      <td>42.462162</td>\n",
       "      <td>5186800</td>\n",
       "      <td>Energy</td>\n",
       "      <td>Oil &amp; Gas Exploration &amp; Production</td>\n",
       "      <td>2015</td>\n",
       "      <td>54.639999</td>\n",
       "      <td>0.000183</td>\n",
       "      <td>1</td>\n",
       "      <td>0.0</td>\n",
       "    </tr>\n",
       "  </tbody>\n",
       "</table>\n",
       "</div>"
      ],
      "text/plain": [
       "        ticker       Date        Open        High         Low       Close  \\\n",
       "424377    BBWI 2007-03-29   21.503637   21.697657   20.897331   21.261116   \n",
       "995923     EMN 2012-02-15   54.619999   54.619999   53.410000   53.599998   \n",
       "1771260    UNH 2020-12-07  348.720001  349.890015  345.220001  347.859985   \n",
       "904531     BEN 2003-07-07   13.360000   13.656667   13.360000   13.620000   \n",
       "1496888    COP 2015-11-10   54.480000   55.150002   54.000000   54.650002   \n",
       "\n",
       "          Adj Close   Volume                  sector  \\\n",
       "424377     8.912901  7538031  Consumer Discretionary   \n",
       "995923    38.790916  1557500               Materials   \n",
       "1771260  333.675568  2999400             Health Care   \n",
       "904531     7.588856  2442600              Financials   \n",
       "1496888   42.462162  5186800                  Energy   \n",
       "\n",
       "                                  subsector  year  Close_lag_1   returns  \\\n",
       "424377               Other Specialty Retail  2007    21.382378 -0.005671   \n",
       "995923                  Specialty Chemicals  2012    54.139999 -0.009974   \n",
       "1771260                 Managed Health Care  2020   349.890015 -0.005802   \n",
       "904531     Asset Management & Custody Banks  2003    13.300000  0.024060   \n",
       "1496888  Oil & Gas Exploration & Production  2015    54.639999  0.000183   \n",
       "\n",
       "         positive_return  target  \n",
       "424377                 0     0.0  \n",
       "995923                 0     1.0  \n",
       "1771260                0     0.0  \n",
       "904531                 1     1.0  \n",
       "1496888                1     0.0  "
      ]
     },
     "execution_count": 16,
     "metadata": {},
     "output_type": "execute_result"
    }
   ],
   "source": [
    "# several ways to sample in Python\n",
    "# we are sampling a pandas dataframe\n",
    "# it will select rows at random, we need to give it a number of rows\n",
    "# look up link provided above\n",
    "# everytime run it will give different samples\n",
    "# df.sample(frac = 0.1)\n",
    "df.sample(n = 5)"
   ]
  },
  {
   "cell_type": "code",
   "execution_count": 17,
   "metadata": {},
   "outputs": [
    {
     "data": {
      "text/plain": [
       "((271386, 15), (2713855, 15))"
      ]
     },
     "execution_count": 17,
     "metadata": {},
     "output_type": "execute_result"
    }
   ],
   "source": [
    "simple_sample_dt = df.sample(frac = 0.1)\n",
    "simple_sample_dt.shape, df.shape"
   ]
  },
  {
   "cell_type": "markdown",
   "metadata": {},
   "source": [
    "Look at the distribution of tickers."
   ]
  },
  {
   "cell_type": "code",
   "execution_count": 18,
   "metadata": {},
   "outputs": [
    {
     "data": {
      "text/plain": [
       "<Axes: >"
      ]
     },
     "execution_count": 18,
     "metadata": {},
     "output_type": "execute_result"
    },
    {
     "data": {
      "image/png": "[encoded data removed]",
      "text/plain": [
       "<Figure size 640x480 with 1 Axes>"
      ]
     },
     "metadata": {},
     "output_type": "display_data"
    }
   ],
   "source": [
    "# expose tickker\n",
    "# create histogam to display distribution of all the tickers\n",
    "df['ticker'].hist()"
   ]
  },
  {
   "cell_type": "code",
   "execution_count": 19,
   "metadata": {},
   "outputs": [
    {
     "data": {
      "text/plain": [
       "<Axes: >"
      ]
     },
     "execution_count": 19,
     "metadata": {},
     "output_type": "execute_result"
    },
    {
     "data": {
      "image/png": "[encoded data removed]",
      "text/plain": [
       "<Figure size 640x480 with 1 Axes>"
      ]
     },
     "metadata": {},
     "output_type": "display_data"
    }
   ],
   "source": [
    "simple_sample_dt['ticker'].hist()"
   ]
  },
  {
   "cell_type": "markdown",
   "metadata": {},
   "source": [
    "## Stratified Sampling\n",
    "\n",
    "+ Use `groupby()` and `.sample()` for stratified sampling."
   ]
  },
  {
   "cell_type": "code",
   "execution_count": 20,
   "metadata": {},
   "outputs": [
    {
     "data": {
      "text/plain": [
       "<Axes: >"
      ]
     },
     "execution_count": 20,
     "metadata": {},
     "output_type": "execute_result"
    },
    {
     "data": {
      "image/png": "[encoded data removed]",
      "text/plain": [
       "<Figure size 640x480 with 1 Axes>"
      ]
     },
     "metadata": {},
     "output_type": "display_data"
    }
   ],
   "source": [
    "# simple sapmle will not take into accoutn distribution\n",
    "# take sample and get 10% \n",
    "# groupby, reducing\n",
    "strat_sample_dt = df.groupby(['ticker']).sample(frac = 0.1)\n",
    "strat_sample_dt['ticker'].hist()"
   ]
  },
  {
   "cell_type": "markdown",
   "metadata": {},
   "source": [
    "# Sampling in Dask\n",
    "\n",
    "+ Stratified sampling in `dask` can be achieved with `groupby().apply()` and a lambda function."
   ]
  },
  {
   "cell_type": "code",
   "execution_count": 21,
   "metadata": {},
   "outputs": [
    {
     "name": "stderr",
     "output_type": "stream",
     "text": [
      "C:\\Users\\bash\\AppData\\Local\\Temp\\ipykernel_2976\\3864709739.py:4: UserWarning: `meta` is not specified, inferred from partial data. Please provide `meta` if the result is unexpected.\n",
      "  Before: .apply(func)\n",
      "  After:  .apply(func, meta={'x': 'f8', 'y': 'f8'}) for dataframe result\n",
      "  or:     .apply(func, meta=('x', 'f8'))            for series result\n",
      "  .apply(lambda x: x.sample(frac = 0.1)).compute())\n"
     ]
    },
    {
     "data": {
      "text/plain": [
       "<Axes: >"
      ]
     },
     "execution_count": 21,
     "metadata": {},
     "output_type": "execute_result"
    },
    {
     "data": {
      "image/png": "[encoded data removed]",
      "text/plain": [
       "<Figure size 640x480 with 1 Axes>"
      ]
     },
     "metadata": {},
     "output_type": "display_data"
    }
   ],
   "source": [
    "# a map reduce algorithm\n",
    "# groupby \n",
    "# apply(lambda x: x.sample(frac = 0.1)).compute()) important\n",
    "# applying a function that does not exist, encapsulate everything in a single line\n",
    "# function will receive on arguement, the group defined, the dataframe that has only one ticker \"A\"\n",
    "# every group will have only a single ticker (prices, ticker)\n",
    "# take that sample and concatonante\n",
    "# operating on a dask dataframe\n",
    "dd_dt = dd.read_parquet(ft_glob)\n",
    "strat_sample_dd_dt = (dd_dt\n",
    "                      .groupby('ticker', group_keys=False)\n",
    "                      .apply(lambda x: x.sample(frac = 0.1)).compute())\n",
    "strat_sample_dd_dt.reset_index()['ticker'].hist()"
   ]
  }
 ],
 "metadata": {
  "kernelspec": {
   "display_name": "env",
   "language": "python",
   "name": "python3"
  },
  "language_info": {
   "codemirror_mode": {
    "name": "ipython",
    "version": 3
   },
   "file_extension": ".py",
   "mimetype": "text/x-python",
   "name": "python",
   "nbconvert_exporter": "python",
   "pygments_lexer": "ipython3",
   "version": "3.11.8"
  }
 },
 "nbformat": 4,
 "nbformat_minor": 2
}
